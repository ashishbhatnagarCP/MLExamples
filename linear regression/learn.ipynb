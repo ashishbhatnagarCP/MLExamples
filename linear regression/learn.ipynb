{
 "cells": [
  {
   "cell_type": "markdown",
   "id": "virtual-spirituality",
   "metadata": {},
   "source": [
    "Make sure you use the right version number."
   ]
  },
  {
   "cell_type": "code",
   "execution_count": null,
   "id": "agricultural-income",
   "metadata": {
    "scrolled": true
   },
   "outputs": [],
   "source": [
    " %pip install --upgrade scikit-learn==0.23.0"
   ]
  },
  {
   "cell_type": "markdown",
   "id": "hawaiian-overall",
   "metadata": {},
   "source": [
    "Once installed, we can load the data."
   ]
  },
  {
   "cell_type": "code",
   "execution_count": 1,
   "id": "greatest-toilet",
   "metadata": {},
   "outputs": [
    {
     "name": "stderr",
     "output_type": "stream",
     "text": [
      "C:\\Users\\mikasa\\anaconda3\\lib\\site-packages\\sklearn\\utils\\deprecation.py:87: FutureWarning: Function load_boston is deprecated; `load_boston` is deprecated in 1.0 and will be removed in 1.2.\n",
      "\n",
      "    The Boston housing prices dataset has an ethical problem. You can refer to\n",
      "    the documentation of this function for further details.\n",
      "\n",
      "    The scikit-learn maintainers therefore strongly discourage the use of this\n",
      "    dataset unless the purpose of the code is to study and educate about\n",
      "    ethical issues in data science and machine learning.\n",
      "\n",
      "    In this special case, you can fetch the dataset from the original\n",
      "    source::\n",
      "\n",
      "        import pandas as pd\n",
      "        import numpy as np\n",
      "\n",
      "        data_url = \"http://lib.stat.cmu.edu/datasets/boston\"\n",
      "        raw_df = pd.read_csv(data_url, sep=\"\\s+\", skiprows=22, header=None)\n",
      "        data = np.hstack([raw_df.values[::2, :], raw_df.values[1::2, :2]])\n",
      "        target = raw_df.values[1::2, 2]\n",
      "\n",
      "    Alternative datasets include the California housing dataset (i.e.\n",
      "    :func:`~sklearn.datasets.fetch_california_housing`) and the Ames housing\n",
      "    dataset. You can load the datasets as follows::\n",
      "\n",
      "        from sklearn.datasets import fetch_california_housing\n",
      "        housing = fetch_california_housing()\n",
      "\n",
      "    for the California housing dataset and::\n",
      "\n",
      "        from sklearn.datasets import fetch_openml\n",
      "        housing = fetch_openml(name=\"house_prices\", as_frame=True)\n",
      "\n",
      "    for the Ames housing dataset.\n",
      "  warnings.warn(msg, category=FutureWarning)\n"
     ]
    }
   ],
   "source": [
    "from sklearn.datasets import load_boston\n",
    "X, y = load_boston(return_X_y=True)"
   ]
  },
  {
   "cell_type": "markdown",
   "id": "cutting-marathon",
   "metadata": {},
   "source": [
    "Next, we can apply models! "
   ]
  },
  {
   "cell_type": "code",
   "execution_count": null,
   "id": "vulnerable-adoption",
   "metadata": {},
   "outputs": [],
   "source": [
    "from sklearn.neighbors import KNeighborsRegressor\n",
    "from sklearn.linear_model import LinearRegression\n",
    "\n",
    "from sklearn.datasets import load_boston\n",
    "X, y = load_boston(return_X_y=True)\n",
    "\n",
    "mod = LinearRegression()\n",
    "mod.fit(X, y)\n",
    "mod.predict(X)[:3]"
   ]
  },
  {
   "cell_type": "code",
   "execution_count": null,
   "id": "indonesian-context",
   "metadata": {},
   "outputs": [],
   "source": [
    "mod = KNeighborsRegressor()\n",
    "mod.fit(X, y)\n",
    "mod.predict(X)[:3]"
   ]
  },
  {
   "cell_type": "markdown",
   "id": "beautiful-burns",
   "metadata": {},
   "source": [
    "Maybe we should inspect the results."
   ]
  },
  {
   "cell_type": "code",
   "execution_count": null,
   "id": "ceramic-static",
   "metadata": {},
   "outputs": [],
   "source": [
    "from sklearn.neighbors import KNeighborsRegressor\n",
    "from sklearn.datasets import load_boston\n",
    "import matplotlib.pylab as plt\n",
    "\n",
    "X, y = load_boston(return_X_y=True)\n",
    "\n",
    "mod = KNeighborsRegressor().fit(X, y)\n",
    "pred = mod.predict(X)\n",
    "plt.scatter(pred, y)"
   ]
  },
  {
   "cell_type": "markdown",
   "id": "undefined-horizon",
   "metadata": {},
   "source": [
    "Let's put everything into a pipeline."
   ]
  },
  {
   "cell_type": "code",
   "execution_count": null,
   "id": "flying-composite",
   "metadata": {},
   "outputs": [],
   "source": [
    "from sklearn.neighbors import KNeighborsRegressor\n",
    "from sklearn.preprocessing import StandardScaler\n",
    "from sklearn.datasets import load_boston\n",
    "from sklearn.pipeline import Pipeline\n",
    "import matplotlib.pylab as plt\n",
    "\n",
    "X, y = load_boston(return_X_y=True)\n",
    "\n",
    "pipe = Pipeline([\n",
    "    (\"scale\", StandardScaler()),\n",
    "    (\"model\", KNeighborsRegressor())\n",
    "])\n",
    "pred = pipe.fit(X, y).predict(X)\n",
    "plt.scatter(pred, y)"
   ]
  },
  {
   "cell_type": "markdown",
   "id": "french-inquiry",
   "metadata": {},
   "source": [
    "Let's also apply some settings!"
   ]
  },
  {
   "cell_type": "code",
   "execution_count": null,
   "id": "outstanding-judgment",
   "metadata": {},
   "outputs": [],
   "source": [
    "from sklearn.neighbors import KNeighborsRegressor\n",
    "from sklearn.preprocessing import StandardScaler\n",
    "from sklearn.datasets import load_boston\n",
    "from sklearn.pipeline import Pipeline\n",
    "import matplotlib.pylab as plt\n",
    "\n",
    "X, y = load_boston(return_X_y=True)\n",
    "\n",
    "# If n_neighbors = 1, we're totally cheating with the chart below.\n",
    "pipe = Pipeline([\n",
    "    (\"scale\", StandardScaler()),\n",
    "    (\"model\", KNeighborsRegressor(n_neighbors=1))\n",
    "])\n",
    "pred = pipe.fit(X, y).predict(X)\n",
    "plt.scatter(pred, y)"
   ]
  },
  {
   "cell_type": "markdown",
   "id": "paperback-banks",
   "metadata": {},
   "source": [
    "Let's now use a gridsearch!"
   ]
  },
  {
   "cell_type": "code",
   "execution_count": null,
   "id": "sealed-abuse",
   "metadata": {},
   "outputs": [],
   "source": [
    "from sklearn.datasets import load_boston\n",
    "from sklearn.neighbors import KNeighborsRegressor\n",
    "from sklearn.preprocessing import StandardScaler\n",
    "from sklearn.pipeline import Pipeline\n",
    "from sklearn.model_selection import GridSearchCV\n",
    "import pandas as pd\n",
    "\n",
    "mod = GridSearchCV(estimator=pipe,\n",
    "                 param_grid={\n",
    "                   'model__n_neighbors': [1, 2, 3, 4, 5, 6, 7, 8, 9, 10]\n",
    "                 },\n",
    "                 cv=3)\n",
    "mod.fit(X, y);"
   ]
  },
  {
   "cell_type": "code",
   "execution_count": null,
   "id": "scheduled-ranking",
   "metadata": {},
   "outputs": [],
   "source": [
    "pd.DataFrame(mod.cv_results_)"
   ]
  },
  {
   "cell_type": "markdown",
   "id": "increased-salem",
   "metadata": {},
   "source": [
    "Finally, lets remember that we should look at the data."
   ]
  },
  {
   "cell_type": "code",
   "execution_count": null,
   "id": "hazardous-income",
   "metadata": {},
   "outputs": [],
   "source": [
    "print(load_boston()['DESCR'])"
   ]
  }
 ],
 "metadata": {
  "kernelspec": {
   "display_name": "Python 3 (ipykernel)",
   "language": "python",
   "name": "python3"
  },
  "language_info": {
   "codemirror_mode": {
    "name": "ipython",
    "version": 3
   },
   "file_extension": ".py",
   "mimetype": "text/x-python",
   "name": "python",
   "nbconvert_exporter": "python",
   "pygments_lexer": "ipython3",
   "version": "3.9.12"
  }
 },
 "nbformat": 4,
 "nbformat_minor": 5
}
